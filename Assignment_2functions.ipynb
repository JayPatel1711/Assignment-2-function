{
  "metadata": {
    "kernelspec": {
      "name": "python",
      "display_name": "Python (Pyodide)",
      "language": "python"
    },
    "language_info": {
      "codemirror_mode": {
        "name": "python",
        "version": 3
      },
      "file_extension": ".py",
      "mimetype": "text/x-python",
      "name": "python",
      "nbconvert_exporter": "python",
      "pygments_lexer": "ipython3",
      "version": "3.8"
    }
  },
  "nbformat_minor": 5,
  "nbformat": 4,
  "cells": [
    {
      "id": "8415f58c-6bec-46bc-94b2-18080d12b65c",
      "cell_type": "code",
      "source": "#Answer 1: Sort the given list of tuple based on integer value using lambda.\ndata = [('Sachin Tendulkar',34357),('Ricky Ponting',27483),('Virat Kohli',24936)]\nsorted_data = sorted(data,key=lambda x : x[1])\nprint(sorted_data)",
      "metadata": {
        "trusted": true
      },
      "outputs": [
        {
          "name": "stdout",
          "output_type": "stream",
          "text": "[('Virat Kohli', 24936), ('Ricky Ponting', 27483), ('Sachin Tendulkar', 34357)]\n"
        }
      ],
      "execution_count": 3
    },
    {
      "id": "0c024aa2-5212-4358-8384-2f85331d1814",
      "cell_type": "code",
      "source": "#Answer 2:WAP to find the squares of all the numbers given in the list using lambda and map function.\nnumbers = [1,2,3,4,5,6,7,8,9,10]\nsquared_numbers = list(map(lambda x: x**2,numbers))\nprint(squared_numbers)",
      "metadata": {
        "trusted": true
      },
      "outputs": [
        {
          "name": "stdout",
          "output_type": "stream",
          "text": "[1, 4, 9, 16, 25, 36, 49, 64, 81, 100]\n"
        }
      ],
      "execution_count": 4
    },
    {
      "id": "62045e8e-9073-428b-83eb-354152d7ee90",
      "cell_type": "code",
      "source": "#Answer 3:WAP to convert the given list of integer into a tiple of strings using map and lambda function.\nnumbers = [1,2,3,4,5,6,7,8,9,10]\nstring_tuple = tuple(map(lambda x : str(x),numbers))\nprint(string_tuple)",
      "metadata": {
        "trusted": true
      },
      "outputs": [
        {
          "name": "stdout",
          "output_type": "stream",
          "text": "('1', '2', '3', '4', '5', '6', '7', '8', '9', '10')\n"
        }
      ],
      "execution_count": 5
    },
    {
      "id": "2808b523-8bf6-42e1-ac8f-b9ff9e6ee471",
      "cell_type": "code",
      "source": "#Answer 4:WAP using reduse function to compute the product of a list containing numbers 1 to 25.\nfrom functools import reduce\nnumbers = list(range(1,26))\nproduct = reduce(lambda x,y : x*y , numbers)\nprint(product)",
      "metadata": {
        "trusted": true
      },
      "outputs": [
        {
          "name": "stdout",
          "output_type": "stream",
          "text": "15511210043330985984000000\n"
        }
      ],
      "execution_count": 7
    },
    {
      "id": "0884157e-e67c-452a-9e8a-c5b8820da94e",
      "cell_type": "code",
      "source": "#Answer 5:WAP to filter the numbers in given list that are divisible by 2 and 3 using filter function.\nnumbers = [2,3,6,9,27,60,90,120,55,46]\nfiltered_numbers = list(filter(lambda x : x % 2==0 and x % 3==0,numbers))\nprint(filtered_numbers)",
      "metadata": {
        "trusted": true
      },
      "outputs": [
        {
          "name": "stdout",
          "output_type": "stream",
          "text": "[6, 60, 90, 120]\n"
        }
      ],
      "execution_count": 8
    },
    {
      "id": "65af0320-1352-4a08-a514-f744c084d78b",
      "cell_type": "code",
      "source": "#Answer 6: WAP to find palindromes in the given list of string using lambda and filter function.\nwords = ['python','php','aba','radar','level']\npalindromes = list(filter(lambda x: x == [-1],words))\nprint(palindromes)",
      "metadata": {
        "trusted": true
      },
      "outputs": [
        {
          "name": "stdout",
          "output_type": "stream",
          "text": "[]\n"
        }
      ],
      "execution_count": 14
    },
    {
      "id": "5feab5b5-c367-4031-bc70-63c91d878f85",
      "cell_type": "code",
      "source": "",
      "metadata": {
        "trusted": true
      },
      "outputs": [],
      "execution_count": null
    },
    {
      "id": "5127ade7-9a13-4bdc-997f-badb58d810cf",
      "cell_type": "code",
      "source": "",
      "metadata": {
        "trusted": true
      },
      "outputs": [],
      "execution_count": null
    }
  ]
}